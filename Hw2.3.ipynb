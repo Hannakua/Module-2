{
 "cells": [
  {
   "cell_type": "code",
   "execution_count": 26,
   "id": "957ff03d-2a71-4448-987d-a695fd2c1033",
   "metadata": {},
   "outputs": [],
   "source": [
    "%matplotlib inline\n",
    "import pandas as pd\n",
    "import matplotlib.pyplot as plt\n",
    "import seaborn as sns\n",
    "\n",
    "\n",
    "# Прочитайте csv файл (використовуйте функцію read_csv)\n",
    "bestbooks = pd.read_csv(\"bestsellers with categories.csv\")"
   ]
  },
  {
   "cell_type": "code",
   "execution_count": 27,
   "id": "d7dac694-20cc-425e-8c95-4c4c9a40eb19",
   "metadata": {},
   "outputs": [
    {
     "name": "stdout",
     "output_type": "stream",
     "text": [
      "                                                Name  \\\n",
      "0                      10-Day Green Smoothie Cleanse   \n",
      "1                                  11/22/63: A Novel   \n",
      "2            12 Rules for Life: An Antidote to Chaos   \n",
      "3                             1984 (Signet Classics)   \n",
      "4  5,000 Awesome Facts (About Everything!) (Natio...   \n",
      "\n",
      "                     Author  User Rating  Reviews  Price  Year        Genre  \n",
      "0                  JJ Smith          4.7    17350      8  2016  Non Fiction  \n",
      "1              Stephen King          4.6     2052     22  2011      Fiction  \n",
      "2        Jordan B. Peterson          4.7    18979     15  2018  Non Fiction  \n",
      "3             George Orwell          4.7    21424      6  2017      Fiction  \n",
      "4  National Geographic Kids          4.8     7665     12  2019  Non Fiction  \n"
     ]
    }
   ],
   "source": [
    "# Виведіть перші п'ять рядків (використовується функція head)\n",
    "print(bestbooks.head(5))"
   ]
  },
  {
   "cell_type": "code",
   "execution_count": 28,
   "id": "eda749b4-0bb8-49ee-baf8-05ef507ab888",
   "metadata": {},
   "outputs": [
    {
     "name": "stdout",
     "output_type": "stream",
     "text": [
      "(550, 7)\n"
     ]
    }
   ],
   "source": [
    "# Виведіть розміри датасету (використовуйте атрибут shape)\n",
    "print(bestbooks.shape)"
   ]
  },
  {
   "cell_type": "code",
   "execution_count": 29,
   "id": "49dd26a2-7ad6-4505-a782-27f04475b438",
   "metadata": {},
   "outputs": [],
   "source": [
    "# Відповідь: Про скільки книг зберігає дані датасет? 550\n",
    "\n",
    "bestbooks.columns = [\n",
    "    \"name\",\n",
    "    \"author\",\n",
    "    \"user_rating\",\n",
    "    \"reviews\",\n",
    "    \"price\",\n",
    "    \"year\",\n",
    "    \"genre\",\n",
    "]"
   ]
  },
  {
   "cell_type": "code",
   "execution_count": 30,
   "id": "80b40523-76d6-4c0e-8709-40218c4e705f",
   "metadata": {},
   "outputs": [
    {
     "name": "stdout",
     "output_type": "stream",
     "text": [
      "name           0\n",
      "author         0\n",
      "user_rating    0\n",
      "reviews        0\n",
      "price          0\n",
      "year           0\n",
      "genre          0\n",
      "dtype: int64\n"
     ]
    }
   ],
   "source": [
    "# Перевірте, чи у всіх рядків вистачає даних: виведіть кількість пропусків (na) у кожному зі стовпців (використовуйте функції isna та sum)\n",
    "data = bestbooks\n",
    "gaps = data.isna().sum()\n",
    "print(gaps)"
   ]
  },
  {
   "cell_type": "code",
   "execution_count": 31,
   "id": "0e3f9d44-958b-471c-be89-7079017a16fd",
   "metadata": {},
   "outputs": [
    {
     "name": "stdout",
     "output_type": "stream",
     "text": [
      "ні\n"
     ]
    }
   ],
   "source": [
    "# Чи є в якихось змінних пропуски? (Так / ні)\n",
    "print(\"ні\")"
   ]
  },
  {
   "cell_type": "code",
   "execution_count": 32,
   "id": "94e0732d-7ad9-47d2-9127-7de10e5b6c48",
   "metadata": {
    "scrolled": true
   },
   "outputs": [
    {
     "name": "stdout",
     "output_type": "stream",
     "text": [
      "['Non Fiction' 'Fiction']\n"
     ]
    }
   ],
   "source": [
    "# Перевірте, які є унікальні значення в колонці genre (використовуйте функцію unique)\n",
    "# Відповідь: Які є унікальні жанри? 'Non Fiction' 'Fiction'\n",
    "print(bestbooks[\"genre\"].unique())"
   ]
  },
  {
   "cell_type": "code",
   "execution_count": 33,
   "id": "ada84f7a-7200-441f-b847-4ffe2ca1aa67",
   "metadata": {},
   "outputs": [
    {
     "data": {
      "image/png": "[encoded data removed]",
      "text/plain": [
       "<Figure size 640x480 with 1 Axes>"
      ]
     },
     "metadata": {},
     "output_type": "display_data"
    }
   ],
   "source": [
    "# Тепер подивіться на розподіл цін: побудуйте діаграму (використовуйте kind='hist')\n",
    "data_price = bestbooks[\"price\"]\n",
    "plt.hist(data_price)\n",
    "plt.title(\"Pозподіл цін\")\n",
    "plt.show()"
   ]
  },
  {
   "cell_type": "code",
   "execution_count": 34,
   "id": "46678674-0a79-473e-a871-cb4cc81343f3",
   "metadata": {},
   "outputs": [
    {
     "name": "stdout",
     "output_type": "stream",
     "text": [
      "Мінімальна ціна: 0, Максимальна ціна: 105, Середня ціна: 13.1, Медіанна ціна: 11.0\n"
     ]
    }
   ],
   "source": [
    "# Визначте, яка ціна у нас максимальна, мінімальна, середня, медіанна (використовуйте функції max, min, mean, median)\n",
    "min_price = data_price.min()\n",
    "max_price = data_price.max()\n",
    "mean_price = data_price.mean()\n",
    "median_price = data_price.median()\n",
    "print(\n",
    "    f\"Мінімальна ціна: {min_price}, Максимальна ціна: {max_price}, Середня ціна: {mean_price}, Медіанна ціна: {median_price}\"\n",
    ")"
   ]
  },
  {
   "cell_type": "code",
   "execution_count": 35,
   "id": "34ac4583-7806-46f2-ba91-693621e5e9c5",
   "metadata": {},
   "outputs": [
    {
     "name": "stdout",
     "output_type": "stream",
     "text": [
      "4.9\n",
      "4.9\n",
      "52\n"
     ]
    }
   ],
   "source": [
    "# Відповідь: Максимальна ціна? 105\n",
    "# Відповідь: Мінімальна ціна? 0\n",
    "# Відповідь: Середня ціна? 13.1\n",
    "# Відповідь: Медіанна ціна? 11.0\n",
    "\n",
    "# Відповідь: Який рейтинг у датасеті найвищий? Відповідь: 4.9\n",
    "\n",
    "print(bestbooks[\"user_rating\"].max())\n",
    "# Відповідь: Скільки книг мають такий рейтинг? Відповідь: 52\n",
    "print(bestbooks[\"user_rating\"].max().sum())\n",
    "print(bestbooks[bestbooks[\"user_rating\"] == bestbooks[\"user_rating\"].max()].shape[0])"
   ]
  },
  {
   "cell_type": "code",
   "execution_count": 36,
   "id": "6cfe9930-b3bc-48aa-a11d-f3d9ca4fa5fc",
   "metadata": {},
   "outputs": [
    {
     "name": "stdout",
     "output_type": "stream",
     "text": [
      "534    Where the Crawdads Sing\n",
      "Name: name, dtype: object\n"
     ]
    }
   ],
   "source": [
    "# Відповідь: Яка книга має найбільше відгуків? Відповідь: Where the Crawdads Sing\n",
    "print(bestbooks[bestbooks[\"reviews\"] == bestbooks[\"reviews\"].max()][\"name\"])"
   ]
  },
  {
   "cell_type": "code",
   "execution_count": 37,
   "id": "f0b0d069-e5f9-4a61-a654-81cda5eb93a3",
   "metadata": {},
   "outputs": [
    {
     "name": "stdout",
     "output_type": "stream",
     "text": [
      "151    Hamilton: The Revolution\n",
      "Name: name, dtype: object\n"
     ]
    }
   ],
   "source": [
    "# Відповідь: З тих книг, що потрапили до Топ-50 у 2015 році, яка книга найдорожча (можна використати проміжний датафрейм)? Відповідь: Hamilton: The Revolution\n",
    "data = bestbooks.sort_values(by=\"user_rating\", ascending=False).head(50)\n",
    "print(data[data[\"price\"] == data[\"price\"].max()][\"name\"])"
   ]
  },
  {
   "cell_type": "code",
   "execution_count": 38,
   "id": "5e7fe255-da35-4270-9b7c-6d4b62df77c4",
   "metadata": {},
   "outputs": [
    {
     "name": "stdout",
     "output_type": "stream",
     "text": [
      "7\n"
     ]
    }
   ],
   "source": [
    "# Відповідь: Скільки книг жанру Fiction потрапили до Топ-50 у 2010 році (використовуйте &)? Відповідь: 7\n",
    "data = bestbooks.sort_values(by=\"user_rating\", ascending=False).head(50)\n",
    "print(data[(data[\"year\"] == 2010) & (data[\"genre\"] == \"Fiction\")].shape[1])"
   ]
  },
  {
   "cell_type": "code",
   "execution_count": 39,
   "id": "7dacd519-823f-4ebf-be02-fad5d690d8c9",
   "metadata": {},
   "outputs": [
    {
     "name": "stdout",
     "output_type": "stream",
     "text": [
      "1\n"
     ]
    }
   ],
   "source": [
    "# Відповідь: Скільки книг з рейтингом 4.9 потрапило до рейтингу у 2010 та 2011 роках (використовуйте | або функцію isin)? Відповідь: 1\n",
    "print(\n",
    "    bestbooks[\n",
    "        (bestbooks[\"year\"] == 2010 | 2011)\n",
    "        & (data[\"user_rating\"] == bestbooks[\"user_rating\"].max())\n",
    "    ].shape[0]\n",
    ")"
   ]
  },
  {
   "cell_type": "code",
   "execution_count": 40,
   "id": "8623fe9e-8555-48b2-9994-5988625fe386",
   "metadata": {},
   "outputs": [
    {
     "name": "stdout",
     "output_type": "stream",
     "text": [
      "                                                  name              author  \\\n",
      "507                              To Kill a Mockingbird          Harper Lee   \n",
      "210                      Laugh-Out-Loud Jokes for Kids         Rob Elliott   \n",
      "206                         Knock-Knock Jokes for Kids         Rob Elliott   \n",
      "111                                    First 100 Words        Roger Priddy   \n",
      "123                               Giraffes Can't Dance       Giles Andreae   \n",
      "54   Creative Haven Creative Cats Coloring Book (Ad...     Marjorie Sarnat   \n",
      "63                      Dear Zoo: A Lift-the-Flap Book        Rod Campbell   \n",
      "89   Dover Creative Haven Art Nouveau Animal Design...         Marty Noble   \n",
      "478                        The Very Hungry Caterpillar          Eric Carle   \n",
      "201  Killing Reagan: The Violent Assault That Chang...       Bill O'Reilly   \n",
      "28                        Baby Touch and Feel: Animals                  DK   \n",
      "224                                   Love You Forever       Robert Munsch   \n",
      "55   Creative Haven Owls Coloring Book (Adult Color...     Marjorie Sarnat   \n",
      "17      Adult Coloring Book: Stress Relieving Patterns  Blue Star Coloring   \n",
      "376  The Four Agreements: A Practical Guide to Pers...     Don Miguel Ruiz   \n",
      "16   Adult Coloring Book: Stress Relieving Animal D...  Blue Star Coloring   \n",
      "253              Old School (Diary of a Wimpy Kid #10)         Jeff Kinney   \n",
      "\n",
      "     user_rating  reviews  price  year        genre  \n",
      "507          4.8    26234      0  2015      Fiction  \n",
      "210          4.6     6990      4  2015  Non Fiction  \n",
      "206          4.5     3673      4  2015  Non Fiction  \n",
      "111          4.7    17323      4  2015  Non Fiction  \n",
      "123          4.8    14038      4  2015      Fiction  \n",
      "54           4.8     4022      4  2015  Non Fiction  \n",
      "63           4.8    10922      5  2015      Fiction  \n",
      "89           4.6     2134      5  2015  Non Fiction  \n",
      "478          4.9    19546      5  2015      Fiction  \n",
      "201          4.6     5235      5  2015  Non Fiction  \n",
      "28           4.6     5360      5  2015  Non Fiction  \n",
      "224          4.8    18613      5  2015      Fiction  \n",
      "55           4.8     3871      5  2015  Non Fiction  \n",
      "17           4.4     2951      6  2015  Non Fiction  \n",
      "376          4.7    23308      6  2015  Non Fiction  \n",
      "16           4.6     2925      6  2015  Non Fiction  \n",
      "253          4.8     6169      7  2015      Fiction  \n"
     ]
    }
   ],
   "source": [
    "# І насамкінець, давайте відсортуємо за зростанням ціни всі книги, які потрапили до рейтингу в 2015 році і коштують дешевше за 8 доларів (використовуйте функцію sort_values).\n",
    "data = bestbooks[(bestbooks[\"year\"] == 2015) & (bestbooks[\"price\"] < 8)]\n",
    "data = data.sort_values(by=\"price\", ascending=True)\n",
    "print(data)"
   ]
  },
  {
   "cell_type": "code",
   "execution_count": 41,
   "id": "6ddbc549-240b-4e62-8718-031f3eb2c936",
   "metadata": {},
   "outputs": [
    {
     "name": "stdout",
     "output_type": "stream",
     "text": [
      "Old School (Diary of a Wimpy Kid #10)\n"
     ]
    }
   ],
   "source": [
    "# Відповідь: Яка книга остання у відсортованому списку? Відповідь:\n",
    "print(data.iloc[-1, :][\"name\"])"
   ]
  },
  {
   "cell_type": "code",
   "execution_count": 42,
   "id": "dbeac83d-5eed-4088-8c94-cad8cb4a1635",
   "metadata": {},
   "outputs": [
    {
     "name": "stdout",
     "output_type": "stream",
     "text": [
      "         genre price    \n",
      "                 max min\n",
      "0      Fiction    82   0\n",
      "1  Non Fiction   105   0\n"
     ]
    }
   ],
   "source": [
    "# Агрегування даних та з'єднання таблиць\n",
    "# Для початку давайте подивимося на максимальну та мінімальну ціни для кожного з жанрів (використовуйте функції groupby та agg, для підрахунку мінімальних\n",
    "# та максимальних значень використовуйте max та min). Не беріть усі стовпці, виберіть тільки потрібні вам\n",
    "data = (\n",
    "    bestbooks.groupby([\"genre\"], group_keys=False)\n",
    "    .agg({\"price\": [\"max\", \"min\"]})\n",
    "    .reset_index()\n",
    ")\n",
    "print(data)"
   ]
  },
  {
   "cell_type": "code",
   "execution_count": 43,
   "id": "d1ef2ed4-0757-49bf-8c00-295649e49c41",
   "metadata": {},
   "outputs": [
    {
     "name": "stdout",
     "output_type": "stream",
     "text": [
      "                         author      \n",
      "                                count\n",
      "0              Abraham Verghese     2\n",
      "1                Adam Gasiewski     1\n",
      "2                 Adam Mansbach     1\n",
      "3                     Adir Levy     1\n",
      "4    Admiral William H. McRaven     1\n",
      "..                          ...   ...\n",
      "243             Walter Isaacson     3\n",
      "244               William Davis     2\n",
      "245            William P. Young     2\n",
      "246            Wizards RPG Team     3\n",
      "247                Zhi Gang Sha     2\n",
      "\n",
      "[248 rows x 2 columns]\n"
     ]
    }
   ],
   "source": [
    "# Відповідь: Максимальна ціна для жанру Fiction: Відповідь 82\n",
    "\n",
    "# Відповідь: Мінімальна ціна для жанру Fiction: Відповідь 0\n",
    "\n",
    "# Відповідь: Максимальна ціна для жанру Non Fiction: Відповідь 105\n",
    "\n",
    "# Відповідь: Мінімальна ціна для жанру Non Fiction: Відповідь 0\n",
    "\n",
    "# Тепер створіть новий датафрейм, який вміщатиме кількість книг для кожного з авторів (використовуйте функції groupby та agg, для\n",
    "# підрахунку кількості використовуйте count). Не беріть усі стовпці, виберете тільки потрібні\n",
    "data = (\n",
    "    bestbooks.groupby([\"author\"], group_keys=False)\n",
    "    .agg({\"author\": [\"count\"]})\n",
    "    .reset_index()\n",
    ")\n",
    "print(data)"
   ]
  },
  {
   "cell_type": "code",
   "execution_count": 44,
   "id": "709e2fbe-fb64-468a-ab2e-c327ac0ae3ce",
   "metadata": {},
   "outputs": [
    {
     "name": "stdout",
     "output_type": "stream",
     "text": [
      "          author      \n",
      "                 count\n",
      "120  Jeff Kinney    12\n"
     ]
    }
   ],
   "source": [
    "# Відповідь: Якої розмірності вийшла таблиця? Відповідь: [248 rows x 2 columns]\n",
    "\n",
    "# Відповідь: Який автор має найбільше книг? Відповідь: Jeff Kinney\n",
    "amount = data[\"author\"][\"count\"].max()\n",
    "print(data[(data[\"author\"][\"count\"] == amount)])\n",
    "# Відповідь: Скільки книг цього автора? Відповідь: 12"
   ]
  },
  {
   "cell_type": "code",
   "execution_count": 45,
   "id": "2ea13b2d-9f51-49dd-955f-8a3cf084e12c",
   "metadata": {},
   "outputs": [
    {
     "name": "stdout",
     "output_type": "stream",
     "text": [
      "     mean\n",
      "0     4.6\n",
      "1     4.4\n",
      "2     4.8\n",
      "3     4.8\n",
      "4     4.7\n",
      "..    ...\n",
      "243   4.6\n",
      "244   4.4\n",
      "245   4.6\n",
      "246   4.8\n",
      "247   4.6\n",
      "\n",
      "[248 rows x 1 columns]\n"
     ]
    }
   ],
   "source": [
    "# Тепер створіть другий датафрейм, який буде вміщати середній рейтинг для кожного автора (використовуйте функції groupby та agg,\n",
    "# для підрахунку середнього значення використовуйте mean). Не беріть усі стовпці, виберете тільки потрібні\n",
    "data2 = (\n",
    "    bestbooks.groupby([\"author\"], group_keys=False)\n",
    "    .agg({\"user_rating\": [\"mean\"]})\n",
    "    .reset_index()\n",
    ")\n",
    "print(data2[\"user_rating\"].round(1))"
   ]
  },
  {
   "cell_type": "code",
   "execution_count": 46,
   "id": "1a2bbaeb-f873-467c-b9b9-700592cda47c",
   "metadata": {},
   "outputs": [
    {
     "name": "stdout",
     "output_type": "stream",
     "text": [
      "         author user_rating\n",
      "                       mean\n",
      "71  Donna Tartt         3.9\n"
     ]
    }
   ],
   "source": [
    "# Відповідь: У якого автора середній рейтинг мінімальний? Відповідь: Donna Tartt\n",
    "author_rate = data2[\"user_rating\"][\"mean\"].min()\n",
    "print(data2[data2[\"user_rating\"][\"mean\"] == author_rate])\n",
    "# Відповідь: Який у цього автора середній рейтинг? Відповідь: 3.9"
   ]
  },
  {
   "cell_type": "code",
   "execution_count": 47,
   "id": "90d40a71-7efa-4d20-bfaa-67fd4cb53fb1",
   "metadata": {},
   "outputs": [
    {
     "name": "stdout",
     "output_type": "stream",
     "text": [
      "                         author       user_rating\n",
      "                                count        mean\n",
      "0              Abraham Verghese     2         4.6\n",
      "1                Adam Gasiewski     1         4.4\n",
      "2                 Adam Mansbach     1         4.8\n",
      "3                     Adir Levy     1         4.8\n",
      "4    Admiral William H. McRaven     1         4.7\n",
      "..                          ...   ...         ...\n",
      "243             Walter Isaacson     3    4.566667\n",
      "244               William Davis     2         4.4\n",
      "245            William P. Young     2         4.6\n",
      "246            Wizards RPG Team     3         4.8\n",
      "247                Zhi Gang Sha     2         4.6\n",
      "\n",
      "[248 rows x 3 columns]\n"
     ]
    }
   ],
   "source": [
    "# З'єднайте останні два датафрейми так, щоб для кожного автора було видно кількість книг та середній рейтинг (Використовуйте функцію concat з параметром axis=1). Збережіть результат у змінну\n",
    "data_concat = pd.concat([data, data2], axis=1)\n",
    "data_concat = data_concat.T.drop_duplicates().T\n",
    "print(data_concat)"
   ]
  },
  {
   "cell_type": "code",
   "execution_count": 48,
   "id": "d170a0a0-ec74-4236-a83e-7e3a52e63e36",
   "metadata": {},
   "outputs": [
    {
     "name": "stdout",
     "output_type": "stream",
     "text": [
      "                                 author       user_rating\n",
      "                                        count        mean\n",
      "0                        Muriel Barbery     1         4.0\n",
      "1                          Chris Cleave     1         4.1\n",
      "2                     Ian K. Smith M.D.     1         4.1\n",
      "3                          Pierre Dukan     1         4.1\n",
      "4                      Elizabeth Strout     1         4.2\n",
      "..                                  ...   ...         ...\n",
      "243  American Psychological Association    10         4.5\n",
      "244                     Suzanne Collins    11    4.663636\n",
      "245                        Gary Chapman    11    4.736364\n",
      "246                        Rick Riordan    11    4.772727\n",
      "247                         Jeff Kinney    12         4.8\n",
      "\n",
      "[248 rows x 3 columns]\n",
      "author                Muriel Barbery\n",
      "             count                 1\n",
      "user_rating  mean                4.0\n",
      "Name: 0, dtype: object\n"
     ]
    }
   ],
   "source": [
    "# Відсортуйте датафрейм за зростаючою кількістю книг та зростаючим рейтингом (використовуйте функцію sort_values)\n",
    "\n",
    "data_concat = data_concat.sort_values(\n",
    "    [(\"author\", \"count\"), (\"user_rating\", \"mean\")],\n",
    "    ascending=True,\n",
    "    ignore_index=True,\n",
    ")\n",
    "print(data_concat)\n",
    "print(data_concat.iloc[0])\n",
    "\n",
    "# Відповідь: Який автор перший у списку? Muriel Barbery"
   ]
  },
  {
   "cell_type": "code",
   "execution_count": 51,
   "id": "a5d8764d-fc95-4e7d-ba6d-2c9c4af3c454",
   "metadata": {},
   "outputs": [
    {
     "data": {
      "image/png": "[encoded data removed]",
      "text/plain": [
       "<Figure size 640x480 with 1 Axes>"
      ]
     },
     "metadata": {},
     "output_type": "display_data"
    }
   ],
   "source": [
    "# Діаграма-boxplot рейтингу книг за жанрами\n",
    "sns.boxplot(x=\"genre\", y=\"user_rating\", data=bestbooks, color=\"grey\")\n",
    "plt.title(\"Діаграма рейтингу книг за жанрами\")\n",
    "plt.xlabel(\"Жанр\")\n",
    "plt.ylabel(\"Рейтинг користувачів\")\n",
    "plt.show()"
   ]
  },
  {
   "cell_type": "code",
   "execution_count": 49,
   "id": "1943dc4a-d03f-4076-a9af-d1f9fd22f25d",
   "metadata": {},
   "outputs": [
    {
     "data": {
      "image/png": "[encoded data removed]",
      "text/plain": [
       "<Figure size 640x480 with 1 Axes>"
      ]
     },
     "metadata": {},
     "output_type": "display_data"
    }
   ],
   "source": [
    "# Точкова діаграма вартості книг за жанрами\n",
    "sns.stripplot(x=\"genre\", y=\"price\", data=bestbooks)\n",
    "plt.title(\"Діаграма вартості книг за жанрами\")\n",
    "plt.xlabel(\"Жанр\")\n",
    "plt.ylabel(\"ціна книги\")\n",
    "plt.show()"
   ]
  },
  {
   "cell_type": "code",
   "execution_count": null,
   "id": "8cbd98f5-920d-48d9-bc6f-db46f2ecd31f",
   "metadata": {},
   "outputs": [],
   "source": []
  }
 ],
 "metadata": {
  "kernelspec": {
   "display_name": "Python 3 (ipykernel)",
   "language": "python",
   "name": "python3"
  },
  "language_info": {
   "codemirror_mode": {
    "name": "ipython",
    "version": 3
   },
   "file_extension": ".py",
   "mimetype": "text/x-python",
   "name": "python",
   "nbconvert_exporter": "python",
   "pygments_lexer": "ipython3",
   "version": "3.11.3"
  }
 },
 "nbformat": 4,
 "nbformat_minor": 5
}
